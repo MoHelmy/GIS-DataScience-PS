{
  "metadata": {
    "colab": {
      "provenance": []
    },
    "kernelspec": {
      "name": "python",
      "display_name": "Python (Pyodide)",
      "language": "python"
    },
    "language_info": {
      "codemirror_mode": {
        "name": "python",
        "version": 3
      },
      "file_extension": ".py",
      "mimetype": "text/x-python",
      "name": "python",
      "nbconvert_exporter": "python",
      "pygments_lexer": "ipython3",
      "version": "3.8"
    }
  },
  "nbformat_minor": 4,
  "nbformat": 4,
  "cells": [
    {
      "cell_type": "markdown",
      "source": "# Assignement 2\n",
      "metadata": {
        "id": "pf5SXa1XeBkI"
      }
    },
    {
      "cell_type": "markdown",
      "source": "Please do not change, delete or edit any cells. Write your code in between designated lines.\n\n",
      "metadata": {
        "id": "txLDhiheeJtw"
      }
    },
    {
      "cell_type": "markdown",
      "source": "## Question 1 (10 points)",
      "metadata": {
        "id": "pVXIH2TLfXYF"
      }
    },
    {
      "cell_type": "code",
      "source": "# Can your print the letters of Agriculture by using for loops. Your output will look like this:\n# A\n# g\n# r\n# i\n# c\n# u\n# l\n# t\n# u\n# r\n# e\n\n## Your code here - down ##\nword = 'Agriculture'\nlt = [*word]\nfor x in lt:\n    print(x)\n## Your code here - up ##\n",
      "metadata": {
        "id": "VS-FTxUHfclH",
        "trusted": true
      },
      "execution_count": 6,
      "outputs": [
        {
          "name": "stdout",
          "text": "A\ng\nr\ni\nc\nu\nl\nt\nu\nr\ne\n",
          "output_type": "stream"
        }
      ]
    },
    {
      "cell_type": "markdown",
      "source": "## Question 2 (40 Points)",
      "metadata": {
        "id": "rTT_VIPMefpk"
      }
    },
    {
      "cell_type": "code",
      "source": "# Find the sum of numbers from 1 to 50(including) by using for loops.\n\n## Your code here - down ##\nx = 0\nfor i in range (50):\n    x = x + i\n    \nprint(x)\n## Your code here - up ##",
      "metadata": {
        "id": "dQp85EhveEWB",
        "trusted": true
      },
      "execution_count": 15,
      "outputs": [
        {
          "name": "stdout",
          "text": "1225\n",
          "output_type": "stream"
        }
      ]
    },
    {
      "cell_type": "markdown",
      "source": "## Question 3 (50 points)",
      "metadata": {
        "id": "gijHHMnjgZPy"
      }
    },
    {
      "cell_type": "code",
      "source": "# Now let's find sum of even and odd numbers from 1 to 50 (including). Are the results same?\n\n# Sum of even  numbers\n\n## Your code here - down ##\nevn = 0\n\n\nfor i in range (50):\n    if i % 2 == 0:\n        evn = evn + i\n        \nprint(evn)\n\n## Your code here - up ##",
      "metadata": {
        "id": "IXBo2RM2gYPR",
        "trusted": true
      },
      "execution_count": 18,
      "outputs": [
        {
          "name": "stdout",
          "text": "600\n",
          "output_type": "stream"
        }
      ]
    },
    {
      "cell_type": "code",
      "source": "# Sum of odd numbers\n\n## Your code here - down ##\n\nodd = 0\n\nfor i in range (50):\n    if i % 2 != 0:\n        odd = odd + i\n        \nprint(odd)\n## Your code here - up ##",
      "metadata": {
        "id": "xQh-bx6ohCe-",
        "trusted": true
      },
      "execution_count": 19,
      "outputs": [
        {
          "name": "stdout",
          "text": "625\n",
          "output_type": "stream"
        }
      ]
    },
    {
      "cell_type": "code",
      "source": "# In this cell explain the difference.",
      "metadata": {
        "id": "OeIXVOYThLbA"
      },
      "execution_count": 7,
      "outputs": []
    }
  ]
}