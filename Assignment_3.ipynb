{
  "metadata": {
    "colab": {
      "provenance": []
    },
    "kernelspec": {
      "name": "python",
      "display_name": "Python (Pyodide)",
      "language": "python"
    },
    "language_info": {
      "codemirror_mode": {
        "name": "python",
        "version": 3
      },
      "file_extension": ".py",
      "mimetype": "text/x-python",
      "name": "python",
      "nbconvert_exporter": "python",
      "pygments_lexer": "ipython3",
      "version": "3.8"
    }
  },
  "nbformat_minor": 4,
  "nbformat": 4,
  "cells": [
    {
      "cell_type": "markdown",
      "source": "# Assignment 3",
      "metadata": {
        "id": "G_4Uq9AcI7KL"
      }
    },
    {
      "cell_type": "markdown",
      "source": "Please do not change, delete or edit any cells. Write your code in between designated lines.",
      "metadata": {
        "id": "fr_EGCu-JMed"
      }
    },
    {
      "cell_type": "markdown",
      "source": "## Question 1 (15 points)",
      "metadata": {
        "id": "L69__o06JnIg"
      }
    },
    {
      "cell_type": "code",
      "source": "# Create a dictionary named dict1 then add key and values.\n# When you print output of dict1 will be shown as {'Peas': 55, 'Canola': 66, 'Oat': 65}.\n\n## Your code here - down ##\ndict1 = {\n  \"Peas\": \"55\",\n  \"Canola\": \"66\",\n  \"Oat\": 65\n}\nprint(dict1)\n## Your code here - up ##",
      "metadata": {
        "id": "bVAI5ISdJOWR",
        "trusted": true
      },
      "execution_count": 1,
      "outputs": [
        {
          "name": "stdout",
          "text": "{'Peas': '55', 'Canola': '66', 'Oat': 65}\n",
          "output_type": "stream"
        }
      ]
    },
    {
      "cell_type": "code",
      "source": "# In this cell you need to change the assigned value of Peas to 66 and print dict1 again.\n\n## Your code here - down ##\ndict1.update({\"Peas\": \"66\",})\nprint(dict1)\n\n## Your code here - up ##",
      "metadata": {
        "id": "962MZgyEKSBw",
        "trusted": true
      },
      "execution_count": 3,
      "outputs": [
        {
          "name": "stdout",
          "text": "{'Peas': '66', 'Canola': '66', 'Oat': 65}\n",
          "output_type": "stream"
        }
      ]
    },
    {
      "cell_type": "code",
      "source": "# Now use For Loop and print values and key inside dict1. Your output will look like:\n# Peas\n# 66\n# and so on.\n\n## Your code here - down ##\nfor i in dict1:\n    print (i, '\\n', dict1[i])\n## Your code here - up ##",
      "metadata": {
        "id": "ZYkqG-uxKyMe",
        "trusted": true
      },
      "execution_count": 7,
      "outputs": [
        {
          "name": "stdout",
          "text": "Peas \n 66\nCanola \n 66\nOat \n 65\n",
          "output_type": "stream"
        }
      ]
    },
    {
      "cell_type": "markdown",
      "source": "## Question 2 (30 points)",
      "metadata": {
        "id": "e4Ugu5vNKohg"
      }
    },
    {
      "cell_type": "code",
      "source": "ls = [2,7,9, 4]\n\n# Method 1\n# Ceate a list that consist of square of ls values.\n\n## Your code here - down ##\ndef square(ls):\n    ls2 =  [i ** 2 for i in ls]\n    return ls2\nprint(square(ls))\n\n## Your code here - up ##",
      "metadata": {
        "id": "1MeSpsIaMFrn",
        "trusted": true
      },
      "execution_count": 22,
      "outputs": [
        {
          "name": "stdout",
          "text": "[4, 49, 81, 16]\n",
          "output_type": "stream"
        }
      ]
    },
    {
      "cell_type": "code",
      "source": "# Method 2\n\n## Your code here - down ##\nfor i in range(len(ls)):\n    ls[i] = ls[i]**2\nprint (ls)   \n## Your code here - up ##",
      "metadata": {
        "id": "41u-FWnoMpfq",
        "trusted": true
      },
      "execution_count": 23,
      "outputs": [
        {
          "name": "stdout",
          "text": "[4, 49, 81, 16]\n",
          "output_type": "stream"
        }
      ]
    },
    {
      "cell_type": "markdown",
      "source": "## Question 3 (55 points)",
      "metadata": {
        "id": "eeYzaBCFMwgS"
      }
    },
    {
      "cell_type": "code",
      "source": "import numpy as np\nar_1 = np.array([[3, 4, 5],\n                 [3, 4, 5]])\n# What is shape of the array?\n\n## Your code here - down ##\n\nprint(ar_1.shape)\n## Your code here - up ##",
      "metadata": {
        "id": "OXhs3bGZM-Oj",
        "trusted": true
      },
      "execution_count": 29,
      "outputs": [
        {
          "name": "stdout",
          "text": "(2, 3)\n",
          "output_type": "stream"
        }
      ]
    },
    {
      "cell_type": "code",
      "source": "ar_2 = ([[3, 4, 5],\n         [8, 4, 1]])\n# Print first row of ar_2\n\n## Your code here - down ##\nar_2[0]\n## Your code here - up ##",
      "metadata": {
        "id": "oOm_o0nCNWGD",
        "trusted": true
      },
      "execution_count": 35,
      "outputs": [
        {
          "execution_count": 35,
          "output_type": "execute_result",
          "data": {
            "text/plain": "[3, 4, 5]"
          },
          "metadata": {}
        }
      ]
    },
    {
      "cell_type": "code",
      "source": "# Write a code that will print 1 in ar_2.\n\n## Your code here - down ##\nar_2[-1][-1]\n## Your code here - up ##",
      "metadata": {
        "id": "y9bfDeDQOBAn",
        "trusted": true
      },
      "execution_count": 37,
      "outputs": [
        {
          "execution_count": 37,
          "output_type": "execute_result",
          "data": {
            "text/plain": "1"
          },
          "metadata": {}
        }
      ]
    },
    {
      "cell_type": "code",
      "source": "# Print entire mean of ar_2\n\n## Your code here - down ##\nsm = 0\nfor i in ar_2:\n    sm = sm + sum (i)\nmean = sm /len(ar_2)    \nprint(mean)\n## Your code here - up ##",
      "metadata": {
        "id": "qSs9eeJZOPSs",
        "trusted": true
      },
      "execution_count": 45,
      "outputs": [
        {
          "name": "stdout",
          "text": "12.5\n",
          "output_type": "stream"
        }
      ]
    },
    {
      "cell_type": "code",
      "source": "# Print each columns' mean\n\n## Your code here - down ##\ncol_1 = (ar_2[0][0] +ar_2[1][0])/2\nprint (col_1)\n\ncol_2 = (ar_2[0][1] +ar_2[1][1])/2\nprint (col_2)\n\ncol_3 = (ar_2[0][2] +ar_2[1][2])/2\nprint (col_3)\n\n## Your code here - up ##",
      "metadata": {
        "id": "eoWFWqzLOiuP",
        "trusted": true
      },
      "execution_count": 53,
      "outputs": [
        {
          "name": "stdout",
          "text": "5.5\n4.0\n3.0\n",
          "output_type": "stream"
        }
      ]
    },
    {
      "cell_type": "code",
      "source": "# Print entire standard deviation  of ar_2\n\n## Your code here - down ##\nnp.std(ar_2)\n## Your code here - up ##",
      "metadata": {
        "id": "z2JxGSG1OyR1",
        "trusted": true
      },
      "execution_count": 57,
      "outputs": [
        {
          "execution_count": 57,
          "output_type": "execute_result",
          "data": {
            "text/plain": "2.1147629234082532"
          },
          "metadata": {}
        }
      ]
    },
    {
      "cell_type": "code",
      "source": "# Print each rows' standard deviation.\n\n## Your code here - down ##\nprint(np.std(ar_2[0]))\nprint(np.std(ar_2[1]))\n## Your code here - up ##",
      "metadata": {
        "id": "MxSBTiL4O4-W",
        "trusted": true
      },
      "execution_count": 60,
      "outputs": [
        {
          "name": "stdout",
          "text": "0.816496580927726\n2.8674417556808756\n",
          "output_type": "stream"
        }
      ]
    },
    {
      "cell_type": "code",
      "source": "# Find the difference between mean and median of entire ar_2.\n\n## Your code here - down ##\nprint(np.mean(ar_2))\nprint(np.median(ar_2))\n## Your code here - up ##",
      "metadata": {
        "id": "XF4u_fPtPBAX",
        "trusted": true
      },
      "execution_count": 63,
      "outputs": [
        {
          "name": "stdout",
          "text": "4.166666666666667\n4.0\n",
          "output_type": "stream"
        }
      ]
    },
    {
      "cell_type": "markdown",
      "source": "Are mean and median same? If they are different, explain what does that mean.\n\nPlease explain below in this cell only.\n\nThe mean and the median are different from each other and it means that the distribution of the data is not symmetric.\n",
      "metadata": {
        "id": "ziac1rfuPp8H"
      }
    }
  ]
}