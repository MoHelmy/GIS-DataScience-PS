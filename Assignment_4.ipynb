{
  "nbformat": 4,
  "nbformat_minor": 0,
  "metadata": {
    "colab": {
      "provenance": [],
      "toc_visible": true
    },
    "kernelspec": {
      "name": "python3",
      "display_name": "Python 3"
    },
    "language_info": {
      "name": "python"
    }
  },
  "cells": [
    {
      "cell_type": "markdown",
      "source": [
        "# Assignment 4"
      ],
      "metadata": {
        "id": "xRFQJjmAgPPv"
      }
    },
    {
      "cell_type": "markdown",
      "source": [
        "\n",
        "Please do not change, delete or edit any cells. Write your code in between designated lines."
      ],
      "metadata": {
        "id": "eLY9HOokgoNX"
      }
    },
    {
      "cell_type": "markdown",
      "source": [
        "import pandas as pd\n",
        "import numpy as np\n",
        "import geopandas as gpd\n",
        "import matplotlib.pyplot as plt\n",
        "import seaborn as sns## Question 1 (25 points)"
      ],
      "metadata": {
        "id": "0iiZnyE_hHm4"
      }
    },
    {
      "cell_type": "code",
      "source": [
        "\n",
        "# Please go to Palette_training_4 GitHub repo and \n",
        "# 1. Read Sask_RM_data.csv.\n",
        "# 2. Rename column namse Crop Year, Canola - bu/ac, Spring Wheat - bu/ac with\n",
        "# Year, Canola, SpringWheat respectively."
      ],
      "metadata": {
        "id": "jwfycLiWgVa0"
      },
      "execution_count": null,
      "outputs": []
    },
    {
      "cell_type": "code",
      "source": [
        "# 1. Read csv file by using pandas \n",
        "\n",
        "## Your code here - down ##\n",
        "from google.colab import drive\n",
        "drive.mount('/content/drive/')\n",
        "\n",
        "import pandas as pd\n",
        "import numpy as np\n",
        "#import geopandas as gpd\n",
        "import matplotlib.pyplot as plt\n",
        "import seaborn as sns\n",
        "\n",
        "fl = \"/content/drive/MyDrive/AgriTech-Peogram/GIS/Sask_RM_Data.csv\"\n",
        "df = pd.read_csv(fl)\n",
        "\n",
        "print(df.head())\n",
        "## Your code here - up ##"
      ],
      "metadata": {
        "id": "1SX-x2rqkvbV",
        "outputId": "80cd4416-167d-4815-c20a-579dcf3a075f",
        "colab": {
          "base_uri": "https://localhost:8080/"
        }
      },
      "execution_count": 2,
      "outputs": [
        {
          "output_type": "stream",
          "name": "stdout",
          "text": [
            "Drive already mounted at /content/drive/; to attempt to forcibly remount, call drive.mount(\"/content/drive/\", force_remount=True).\n",
            "   Crop Year  RM  Canola - bu/ac  Spring Wheat - bu/ac\n",
            "0       2012   1            22.3                  36.2\n",
            "1       2012   2            28.6                  37.2\n",
            "2       2012   3            25.1                  39.4\n",
            "3       2012   4            21.6                  31.6\n",
            "4       2012   5            26.8                  29.0\n"
          ]
        }
      ]
    },
    {
      "cell_type": "code",
      "source": [],
      "metadata": {
        "id": "sx9AbcxC27Rx"
      },
      "execution_count": null,
      "outputs": []
    },
    {
      "cell_type": "code",
      "source": [
        "# 2. Rename columns\n",
        "\n",
        "## Your code here - down ##\n",
        "df = df.rename({'Crop Year': 'Year', 'Canola - bu/ac': 'Canola', 'Spring Wheat - bu/ac': 'SpringWheat'}, axis=1)\n",
        "print(df.head())\n",
        "## Your code here - up ##"
      ],
      "metadata": {
        "id": "cdGqn-qvksVg",
        "colab": {
          "base_uri": "https://localhost:8080/"
        },
        "outputId": "27ae64ee-a05d-42bd-cda8-6bb66912b922"
      },
      "execution_count": 3,
      "outputs": [
        {
          "output_type": "stream",
          "name": "stdout",
          "text": [
            "   Year  RM  Canola  SpringWheat\n",
            "0  2012   1    22.3         36.2\n",
            "1  2012   2    28.6         37.2\n",
            "2  2012   3    25.1         39.4\n",
            "3  2012   4    21.6         31.6\n",
            "4  2012   5    26.8         29.0\n"
          ]
        }
      ]
    },
    {
      "cell_type": "markdown",
      "source": [
        "Question 2 (65 points)"
      ],
      "metadata": {
        "id": "CVL1VhWNj06v"
      }
    },
    {
      "cell_type": "code",
      "source": [
        "# 1. How many missing values in each column? \n",
        "\n",
        "## Your code here - down ##\n",
        "\n",
        "print(df.isna().sum())\n",
        "## Your code here - up ##"
      ],
      "metadata": {
        "id": "obXacM3uiCcE",
        "colab": {
          "base_uri": "https://localhost:8080/"
        },
        "outputId": "6fcb1615-b173-49b1-9456-04daa1177b31"
      },
      "execution_count": 4,
      "outputs": [
        {
          "output_type": "stream",
          "name": "stdout",
          "text": [
            "Year            0\n",
            "RM              0\n",
            "Canola         45\n",
            "SpringWheat    51\n",
            "dtype: int64\n"
          ]
        }
      ]
    },
    {
      "cell_type": "code",
      "source": [
        "# 2. Find unique values of RMs(Rural Municipalities).\n",
        "\n",
        "## Your code here - down ##\n",
        "RMU = df.RM.unique()\n",
        "print(RMU)\n",
        "## Your code here - up ##"
      ],
      "metadata": {
        "id": "wNZcRd9bkhTS",
        "colab": {
          "base_uri": "https://localhost:8080/"
        },
        "outputId": "6c95b8db-0209-4038-fdfd-d46c68a6e6ab"
      },
      "execution_count": 6,
      "outputs": [
        {
          "output_type": "stream",
          "name": "stdout",
          "text": [
            "[  1   2   3   4   5   6   7   8   9  10  11  12  17  18  19  31  32  33\n",
            "  34  35  36  37  38  39  40  42  43  44  45  46  49  51  61  63  64  65\n",
            "  66  67  68  69  70  71  72  73  74  75  76  77  78  79  91  92  93  94\n",
            "  95  96  97  98  99 100 101 102 103 104 105 106 107 108 109 110 111 121\n",
            " 122 123 124 125 126 127 128 129 130 131 132 133 134 135 136 137 138 139\n",
            " 141 142 151 152 153 154 155 156 157 158 159 160 161 162 163 164 165 166\n",
            " 167 168 169 171 181 183 184 185 186 187 189 190 191 193 194 211 213 214\n",
            " 215 216 217 218 219 220 221 222 223 224 225 226 228 229 230 231 232 241\n",
            " 243 244 245 246 247 248 250 251 252 253 254 255 256 257 259 260 261 271\n",
            " 273 274 275 276 277 279 280 281 282 283 284 285 286 287 288 290 292 301\n",
            " 303 304 305 307 308 309 310 312 313 314 315 316 317 318 319 320 321 322\n",
            " 331 333 334 335 336 337 338 339 340 341 342 343 344 345 346 347 349 350\n",
            " 351 352 366 367 368 369 370 371 372 373 376 377 378 379 380 381 382 394\n",
            " 395 397 398 399 400 401 402 403 404 405 406 409 410 411 426 427 428 429\n",
            " 430 431 434 435 436 437 438 439 440 442 456 457 458 459 460 461 463 464\n",
            " 466 467 468 469 470 471 472 486 487 488 490 491 493 494 496 497 498 499\n",
            " 501 502 520 555 561 588 622]\n"
          ]
        }
      ]
    },
    {
      "cell_type": "code",
      "source": [
        "# 3. Use groupby() and find top 10 RMs in terms of average Canola yield through 10 years.\n",
        "\n",
        "## Your code here - down ##\n",
        "dfc = df.groupby(\"RM\")['Canola'].mean()\n",
        "print(dfc.sort_values().head(10))\n",
        "## Your code here - up ##"
      ],
      "metadata": {
        "id": "X-7AiMCZkiji",
        "colab": {
          "base_uri": "https://localhost:8080/"
        },
        "outputId": "c16d53df-8827-4875-aeab-d2a00ffcf9a9"
      },
      "execution_count": 7,
      "outputs": [
        {
          "output_type": "stream",
          "name": "stdout",
          "text": [
            "RM\n",
            "46     17.132500\n",
            "51     18.735000\n",
            "43     20.669000\n",
            "45     22.461429\n",
            "19     23.199000\n",
            "142    24.173000\n",
            "171    24.768000\n",
            "18     25.450000\n",
            "11     25.993000\n",
            "106    26.521000\n",
            "Name: Canola, dtype: float64\n"
          ]
        }
      ]
    },
    {
      "cell_type": "code",
      "source": [
        "# 4. Use groupby() function and find worst 10 RMs in terms of average Spring Wheat through 10 years.\n",
        "\n",
        "## Your code here - down ##\n",
        "dfw = df.groupby(\"RM\")['SpringWheat'].mean()\n",
        "print(dfw.sort_values().head(10))\n",
        "## Your code here - up ##"
      ],
      "metadata": {
        "id": "JqIEftfSmJha",
        "colab": {
          "base_uri": "https://localhost:8080/"
        },
        "outputId": "472cb981-c619-42ca-f179-fc517be1be3f"
      },
      "execution_count": 8,
      "outputs": [
        {
          "output_type": "stream",
          "name": "stdout",
          "text": [
            "RM\n",
            "44     20.339000\n",
            "10     21.168571\n",
            "69     22.418000\n",
            "45     22.920000\n",
            "40     23.265000\n",
            "19     24.163000\n",
            "51     24.683000\n",
            "101    24.993000\n",
            "9      25.364000\n",
            "70     25.807000\n",
            "Name: SpringWheat, dtype: float64\n"
          ]
        }
      ]
    },
    {
      "cell_type": "code",
      "source": [
        "# 4. Use groupby() function and find worst 3 best years in terms of average Spring Wheat.\n",
        "\n",
        "## Your code here - down ##\n",
        "dfy = df.groupby(\"Year\")['SpringWheat'].mean()\n",
        "print(dfy.sort_values(ascending=[True]).head(3))\n",
        "## Your code here - up ##"
      ],
      "metadata": {
        "id": "_u735AcFmyKX",
        "colab": {
          "base_uri": "https://localhost:8080/"
        },
        "outputId": "43875217-e259-47f9-d5c8-8e7525e5463f"
      },
      "execution_count": 9,
      "outputs": [
        {
          "output_type": "stream",
          "name": "stdout",
          "text": [
            "Year\n",
            "2021    30.216725\n",
            "2012    34.831633\n",
            "2015    37.016599\n",
            "Name: SpringWheat, dtype: float64\n"
          ]
        }
      ]
    },
    {
      "cell_type": "code",
      "source": [
        "# 5. Use groupby() function and find worst 3 years in terms of average Spring Wheat through 10 years.\n",
        "\n",
        "## Your code here - down ##\n",
        "avg_production_year = df.groupby('Year')['SpringWheat'].mean()\n",
        "print(avg_production_year.sort_values().head(3))\n",
        "## Your code here - up ##"
      ],
      "metadata": {
        "id": "VIeb0E0SmSYf",
        "colab": {
          "base_uri": "https://localhost:8080/"
        },
        "outputId": "77946465-20e8-4684-b853-20cc67551191"
      },
      "execution_count": 10,
      "outputs": [
        {
          "output_type": "stream",
          "name": "stdout",
          "text": [
            "Year\n",
            "2021    30.216725\n",
            "2012    34.831633\n",
            "2015    37.016599\n",
            "Name: SpringWheat, dtype: float64\n"
          ]
        }
      ]
    },
    {
      "cell_type": "markdown",
      "source": [
        "## Question 3 (10 points)"
      ],
      "metadata": {
        "id": "jmsH1mGWpu3L"
      }
    },
    {
      "cell_type": "markdown",
      "source": [
        "This task is independent exploratory data analysis. Find key insights from the dataset and share your code by creating new cells.\n",
        "\n"
      ],
      "metadata": {
        "id": "U6OG5ANHp39Y"
      }
    },
    {
      "cell_type": "code",
      "source": [],
      "metadata": {
        "id": "64ucwvk85rtU"
      },
      "execution_count": null,
      "outputs": []
    },
    {
      "cell_type": "code",
      "source": [
        "# Lowest year in Canola vs. Top year in Spring Wheat\n",
        "dfsw = df.groupby(\"Year\")['SpringWheat'].mean()\n",
        "print(\"Top year in Spring Wheat:\")\n",
        "print(dfsw.sort_values().head(1))\n",
        "print('\\n')\n",
        "dfc = df.groupby(\"Year\")['Canola'].mean()\n",
        "print(\"Top year in Canola:\")\n",
        "print(dfc.sort_values().head(1))"
      ],
      "metadata": {
        "colab": {
          "base_uri": "https://localhost:8080/"
        },
        "outputId": "a154fa64-0a30-4d4e-9e7f-63f1d16745da",
        "id": "_Lm9SkAJ5sRf"
      },
      "execution_count": 12,
      "outputs": [
        {
          "output_type": "stream",
          "name": "stdout",
          "text": [
            "Top year in Spring Wheat:\n",
            "Year\n",
            "2021    30.216725\n",
            "Name: SpringWheat, dtype: float64\n",
            "\n",
            "\n",
            "Top year in Canola:\n",
            "Year\n",
            "2021    21.858276\n",
            "Name: Canola, dtype: float64\n"
          ]
        }
      ]
    }
  ]
}