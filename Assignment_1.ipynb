{
  "metadata": {
    "colab": {
      "provenance": []
    },
    "kernelspec": {
      "name": "python",
      "display_name": "Python (Pyodide)",
      "language": "python"
    },
    "language_info": {
      "codemirror_mode": {
        "name": "python",
        "version": 3
      },
      "file_extension": ".py",
      "mimetype": "text/x-python",
      "name": "python",
      "nbconvert_exporter": "python",
      "pygments_lexer": "ipython3",
      "version": "3.8"
    }
  },
  "nbformat_minor": 4,
  "nbformat": 4,
  "cells": [
    {
      "cell_type": "markdown",
      "source": "# Assignement 1",
      "metadata": {
        "id": "pkIv6ki2IEPX"
      }
    },
    {
      "cell_type": "markdown",
      "source": "Please **do not** change, delete or edit any cells. Write your code in between designated lines.",
      "metadata": {
        "id": "uPzTokrsLSZ9"
      }
    },
    {
      "cell_type": "markdown",
      "source": "#### Question 1 (5 points)",
      "metadata": {
        "id": "qZaWKGXcJFuj"
      }
    },
    {
      "cell_type": "code",
      "source": "# Here execute the following sentence - string \"I will be a data scientist\" by using print() function.\n\n## Your code here - down ##\nprint(\"I will be a data scientist\")\n## Your code here - up ##",
      "metadata": {
        "id": "N-i0sQmcId4W",
        "trusted": true
      },
      "execution_count": 1,
      "outputs": [
        {
          "name": "stdout",
          "text": "I will be a data scientist\n",
          "output_type": "stream"
        }
      ]
    },
    {
      "cell_type": "markdown",
      "source": "#### Question 2 (10 points)",
      "metadata": {
        "id": "XyeAqdgIJUUh"
      }
    },
    {
      "cell_type": "code",
      "source": "# Assign a and b variables respectively with 10 and 12, then print sum of these two variables.\n\n## Your code here - down ##\na = 10\nb = 12\nprint(a + b)\n## Your code here - up ##",
      "metadata": {
        "id": "y_BX1T8sJS9U",
        "trusted": true
      },
      "execution_count": 2,
      "outputs": [
        {
          "name": "stdout",
          "text": "22\n",
          "output_type": "stream"
        }
      ]
    },
    {
      "cell_type": "markdown",
      "source": "Question 3 (20 Points)",
      "metadata": {
        "id": "wWP7OJtQKTNT"
      }
    },
    {
      "cell_type": "code",
      "source": "# So we assigned a and b in the above cell. Let's write a code that print \n# \"a is greater b\" or \"a is less than b\" \n# by using Python's conditional statement (if - else). Please see training_1.\n\n## Your code here - down ##\na = 10\nb = 12\nif a > b:\n  print(\"a is greater than b\")\nelse:\n  print(\"a is less than b\")\n## Your code here - up ##",
      "metadata": {
        "id": "FoCDtEylKPjY",
        "trusted": true
      },
      "execution_count": 4,
      "outputs": [
        {
          "name": "stdout",
          "text": "a is less than b\n",
          "output_type": "stream"
        }
      ]
    },
    {
      "cell_type": "markdown",
      "source": "#### Question 4 (40 points)",
      "metadata": {
        "id": "H5VZWM1lMIF4"
      }
    },
    {
      "cell_type": "code",
      "source": "# We built a function - canola_convertion () to convert pounds to bushel for canola. \n# We added if and else conditional statement to this function\n# to print \"Yield was better this year\" in case Canola yield per acre was greater than 45 (Please see Training_1 file). \n# But now, we will use wheat instead of canola. Please give an example of 2400 pounds and convert it to bushels and\n# print if the year was good or bad. \n\n## Your code here - down ##\ndef wheat_convertion(pounds, unit):\n    bushel_per_acre = pounds/unit\n    if bushel_per_acre > 45:\n        print('Yield was better this year: ')\n    else:\n        print('Yield was not good this year: ')\n    return bushel_per_acre\nwheat_convertion(2400,50)\n## Your code here - up ##",
      "metadata": {
        "id": "dfPaZrkGMNRa",
        "trusted": true
      },
      "execution_count": 7,
      "outputs": [
        {
          "name": "stdout",
          "text": "Yield was better this year: \n",
          "output_type": "stream"
        },
        {
          "execution_count": 7,
          "output_type": "execute_result",
          "data": {
            "text/plain": "48.0"
          },
          "metadata": {}
        }
      ]
    },
    {
      "cell_type": "markdown",
      "source": "#### Question 5 (25 points)",
      "metadata": {
        "id": "XAECT2JJOlmA"
      }
    },
    {
      "cell_type": "code",
      "source": "# Assign list that contains even numbers from 1 to 10. Then add apple word to the list. \n# It will look like 'apple' in the list. \n\n## Your code here - down ##\nls_1 = [2,4,6,8, 'Apple']\nprint(ls_1)\n## Your code here - up ##",
      "metadata": {
        "id": "Hn9rzk2GOr6c",
        "trusted": true
      },
      "execution_count": 30,
      "outputs": [
        {
          "name": "stdout",
          "text": "[2, 4, 6, 8, 'Apple']\n",
          "output_type": "stream"
        }
      ]
    },
    {
      "cell_type": "code",
      "source": "# Now it is time to delete 'apple' word from the list. It looks weird there.\n\n## Your code here - down ##\nprint(ls_1)\nls_1.remove('Apple')\nprint(ls_1)\n## Your code here - up ##",
      "metadata": {
        "id": "hHYeNRHOPqX2",
        "trusted": true
      },
      "execution_count": 31,
      "outputs": [
        {
          "name": "stdout",
          "text": "[2, 4, 6, 8, 'Apple']\n[2, 4, 6, 8]\n",
          "output_type": "stream"
        }
      ]
    },
    {
      "cell_type": "code",
      "source": "# Can you print 6 only from the list? If yes, please show in the codes.\n\n## Your code here - down ##\nls_1[2]\n## Your code here - up ##",
      "metadata": {
        "id": "cr2F3ZWNP3Wv",
        "trusted": true
      },
      "execution_count": 33,
      "outputs": [
        {
          "execution_count": 33,
          "output_type": "execute_result",
          "data": {
            "text/plain": "6"
          },
          "metadata": {}
        }
      ]
    },
    {
      "cell_type": "markdown",
      "source": "END OF ASSIGNEMNT\n\nThank you!",
      "metadata": {
        "id": "a6NObJGmQWaD"
      }
    }
  ]
}